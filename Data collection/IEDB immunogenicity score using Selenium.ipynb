{
 "cells": [
  {
   "cell_type": "code",
   "execution_count": 3,
   "id": "a4523db3",
   "metadata": {},
   "outputs": [
    {
     "data": {
      "text/plain": [
       "<selenium.webdriver.chrome.webdriver.WebDriver (session=\"743c2647c933b3e07a5b7f01861a913e\")>"
      ]
     },
     "execution_count": 3,
     "metadata": {},
     "output_type": "execute_result"
    }
   ],
   "source": [
    "from selenium import webdriver\n",
    "driver = webdriver.Chrome(executable_path = 'C:/Users/Sahil/.wdm/drivers/chromedriver/win32/110.0.5481/chromedriver.exe')\n",
    "driver"
   ]
  },
  {
   "cell_type": "code",
   "execution_count": 14,
   "id": "9a623215",
   "metadata": {},
   "outputs": [],
   "source": [
    "from selenium.webdriver.common.keys import Keys\n",
    "from selenium.common.exceptions import NoSuchElementException\n",
    "from time import sleep\n",
    "from selenium.webdriver.support.ui import WebDriverWait\n",
    "from selenium.webdriver.support import expected_conditions as EC\n",
    "import pandas as pd"
   ]
  },
  {
   "cell_type": "code",
   "execution_count": 16,
   "id": "292d715f",
   "metadata": {},
   "outputs": [],
   "source": [
    "#open home page\n",
    "driver.get('http://tools.iedb.org/immunogenicity/')"
   ]
  },
  {
   "cell_type": "code",
   "execution_count": 11,
   "id": "e0718716",
   "metadata": {},
   "outputs": [],
   "source": [
    "#list of input sequences\n",
    "input_sequences = ['WESWWNTFNEKWDEDL', 'LARFLEETTWAIV', 'AAGEAAATIEVEIA', 'LIWFRPVADFAAAIH', 'VEEVRVFEGTEELPG']"
   ]
  },
  {
   "cell_type": "code",
   "execution_count": 22,
   "id": "8d473125",
   "metadata": {},
   "outputs": [],
   "source": [
    "#create empty lists to store outputs\n",
    "peptide_list = []\n",
    "length_list = []\n",
    "immuno_score_list = []"
   ]
  },
  {
   "cell_type": "code",
   "execution_count": 23,
   "id": "4a503e4c",
   "metadata": {},
   "outputs": [
    {
     "data": {
      "text/html": [
       "<div>\n",
       "<style scoped>\n",
       "    .dataframe tbody tr th:only-of-type {\n",
       "        vertical-align: middle;\n",
       "    }\n",
       "\n",
       "    .dataframe tbody tr th {\n",
       "        vertical-align: top;\n",
       "    }\n",
       "\n",
       "    .dataframe thead th {\n",
       "        text-align: right;\n",
       "    }\n",
       "</style>\n",
       "<table border=\"1\" class=\"dataframe\">\n",
       "  <thead>\n",
       "    <tr style=\"text-align: right;\">\n",
       "      <th></th>\n",
       "      <th>Peptide</th>\n",
       "      <th>Length</th>\n",
       "      <th>Immunogenicity</th>\n",
       "    </tr>\n",
       "  </thead>\n",
       "  <tbody>\n",
       "    <tr>\n",
       "      <th>0</th>\n",
       "      <td>WESWWNTFNEKWDEDL</td>\n",
       "      <td>16</td>\n",
       "      <td>0.74563</td>\n",
       "    </tr>\n",
       "    <tr>\n",
       "      <th>1</th>\n",
       "      <td>LARFLEETTWAIV</td>\n",
       "      <td>13</td>\n",
       "      <td>0.71369</td>\n",
       "    </tr>\n",
       "    <tr>\n",
       "      <th>2</th>\n",
       "      <td>AAGEAAATIEVEIA</td>\n",
       "      <td>14</td>\n",
       "      <td>0.69207</td>\n",
       "    </tr>\n",
       "    <tr>\n",
       "      <th>3</th>\n",
       "      <td>LIWFRPVADFAAAIH</td>\n",
       "      <td>15</td>\n",
       "      <td>0.62891</td>\n",
       "    </tr>\n",
       "    <tr>\n",
       "      <th>4</th>\n",
       "      <td>VEEVRVFEGTEELPG</td>\n",
       "      <td>15</td>\n",
       "      <td>0.62285</td>\n",
       "    </tr>\n",
       "  </tbody>\n",
       "</table>\n",
       "</div>"
      ],
      "text/plain": [
       "            Peptide  Length  Immunogenicity\n",
       "0  WESWWNTFNEKWDEDL      16         0.74563\n",
       "1     LARFLEETTWAIV      13         0.71369\n",
       "2    AAGEAAATIEVEIA      14         0.69207\n",
       "3   LIWFRPVADFAAAIH      15         0.62891\n",
       "4   VEEVRVFEGTEELPG      15         0.62285"
      ]
     },
     "execution_count": 23,
     "metadata": {},
     "output_type": "execute_result"
    }
   ],
   "source": [
    "#automate using Selenium\n",
    "for i in range(0, len(input_sequences)):\n",
    "    \n",
    "    #textbox for entering sequence\n",
    "    pep_seq = driver.find_element_by_xpath('//*[@id=\"id_sequence_text\"]')\n",
    "    pep_seq.send_keys(input_sequences[i])\n",
    "    \n",
    "    #pressing the submit button\n",
    "    submit = driver.find_element_by_xpath('//*[@id=\"input-form\"]/table/tbody/tr[6]/th/div/input[1]')\n",
    "    submit.click()\n",
    "    sleep(3)\n",
    "    \n",
    "    #peptide name\n",
    "    peptide_name = driver.find_element_by_xpath('//*[@id=\"result_table\"]/tbody/tr/td[1]').text\n",
    "    peptide_list.append(peptide_name)\n",
    "    \n",
    "    #length of the peptide\n",
    "    length = driver.find_element_by_xpath('//*[@id=\"result_table\"]/tbody/tr/td[2]').text\n",
    "    length_list.append(int(length))\n",
    "    \n",
    "    #immunogenicity score\n",
    "    immuno_score = driver.find_element_by_xpath('//*[@id=\"result_table\"]/tbody/tr/td[3]').text\n",
    "    immuno_score_list.append(float(immuno_score))\n",
    "    \n",
    "    #coming back to home page\n",
    "    driver.get('http://tools.iedb.org/immunogenicity/')\n",
    "    sleep(3)\n",
    "    \n",
    "    \n",
    "df = pd.DataFrame({'Peptide':peptide_list, 'Length':length_list, 'Immunogenicity':immuno_score_list})\n",
    "df\n",
    "    \n",
    "    \n",
    "    "
   ]
  }
 ],
 "metadata": {
  "kernelspec": {
   "display_name": "Python 3 (ipykernel)",
   "language": "python",
   "name": "python3"
  },
  "language_info": {
   "codemirror_mode": {
    "name": "ipython",
    "version": 3
   },
   "file_extension": ".py",
   "mimetype": "text/x-python",
   "name": "python",
   "nbconvert_exporter": "python",
   "pygments_lexer": "ipython3",
   "version": "3.9.12"
  }
 },
 "nbformat": 4,
 "nbformat_minor": 5
}
