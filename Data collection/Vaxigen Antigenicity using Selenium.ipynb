{
 "cells": [
  {
   "cell_type": "code",
   "execution_count": 1,
   "id": "7303ed8e",
   "metadata": {},
   "outputs": [
    {
     "data": {
      "text/plain": [
       "<selenium.webdriver.chrome.webdriver.WebDriver (session=\"9f167345258fa039c0900e62e9c65854\")>"
      ]
     },
     "execution_count": 1,
     "metadata": {},
     "output_type": "execute_result"
    }
   ],
   "source": [
    "from selenium import webdriver\n",
    "driver = webdriver.Chrome(executable_path = 'C:/Users/Sahil/.wdm/drivers/chromedriver/win32/110.0.5481/chromedriver.exe')\n",
    "driver"
   ]
  },
  {
   "cell_type": "code",
   "execution_count": 8,
   "id": "24cdfcab",
   "metadata": {},
   "outputs": [],
   "source": [
    "from selenium.webdriver.common.keys import Keys\n",
    "from selenium.common.exceptions import NoSuchElementException\n",
    "from time import sleep\n",
    "from selenium.webdriver.support.ui import WebDriverWait\n",
    "from selenium.webdriver.support import expected_conditions as EC\n",
    "from selenium.webdriver.common.by import By\n",
    "import pandas as pd\n",
    "import re"
   ]
  },
  {
   "cell_type": "code",
   "execution_count": 14,
   "id": "bb778187",
   "metadata": {},
   "outputs": [],
   "source": [
    "class Vaxijen_Antigenicity:\n",
    "    def __init__(self):\n",
    "        self.base_url = 'http://www.ddg-pharmfac.net/vaxijen/VaxiJen/VaxiJen.html'\n",
    "        \n",
    "    def get_data(self, source_filepath):\n",
    "        epit_list = []\n",
    "        score_list = []\n",
    "        is_antigen = []\n",
    "        \n",
    "        #home page\n",
    "        driver.get(self.base_url)\n",
    "        sleep(3)\n",
    "        \n",
    "        #choosing file\n",
    "        choose_file =  driver.find_element_by_xpath('/html/body/div/table/tbody/tr[4]/td[3]/form/table/tbody/tr[1]/td[2]/p/input')\n",
    "        choose_file.send_keys(source_filepath)\n",
    "        \n",
    "        \n",
    "        #selecting the target organism\n",
    "        target_org = driver.find_element_by_xpath('/html/body/div/table/tbody/tr[4]/td[3]/form/table/tbody/tr[2]/td[2]/p/select/option[2]')\n",
    "        target_org.click()\n",
    "        \n",
    "        #submit button\n",
    "        submit = driver.find_element_by_xpath('/html/body/div/table/tbody/tr[4]/td[3]/form/table/tbody/tr[3]/td[2]/input[1]')\n",
    "        submit.click()\n",
    "        \n",
    "        WebDriverWait(driver, 5).until(EC.visibility_of_element_located((By.XPATH, '/html/body/div/table/tbody/tr[3]/td[3]/font/b')))\n",
    "            \n",
    "        epit = driver.find_elements_by_xpath('//font[@face = \"Courier New\"]')\n",
    "        score_tag = driver.find_elements_by_xpath('/html/body/div/table/tbody/tr[4]/td[3]/table/tbody/tr/td/b')\n",
    "        anti = driver.find_elements_by_xpath('//td/b/font[@color = \"#0000FF\"]')\n",
    "        \n",
    "        #score is in <b> tag. There are variuos <b> tags. So we will use regex to check\n",
    "        regex = '[+-]?[0-9]+\\.[0-9]+'\n",
    "        for i in range(0, len(score_tag)):\n",
    "            if re.search(regex, score_tag[i].text):\n",
    "                score_list.append(float(score_tag[i].text))\n",
    "                \n",
    "        for epi, is_ant in zip(epit, anti):\n",
    "            epit_list.append(epi.text)\n",
    "            is_antigen.append(is_ant.text)\n",
    "            \n",
    "        df = pd.DataFrame({\"Epitope\":epit_list, \"Antigenicity\":score_list, \"Is_Antigen\":is_antigen})\n",
    "        return df\n",
    "    \n",
    "    \n",
    "    def save_results(self, df, dest_filepath):\n",
    "        df.to_csv(dest_filepath)\n",
    "        \n",
    "        \n",
    "        \n",
    "        "
   ]
  },
  {
   "cell_type": "code",
   "execution_count": 4,
   "id": "1d296615",
   "metadata": {},
   "outputs": [],
   "source": [
    "source_filepath = r'C:\\Users\\Sahil\\Omdena\\Development of Vaccines for JC Virus\\mhc1_epitopes_fasta.txt'\n",
    "dest_filepath = r'C:\\Users\\Sahil\\Omdena\\Development of Vaccines for JC Virus\\mhc1_epitopes_antigenicity.csv'"
   ]
  },
  {
   "cell_type": "code",
   "execution_count": 15,
   "id": "a2c945a4",
   "metadata": {},
   "outputs": [
    {
     "data": {
      "text/html": [
       "<div>\n",
       "<style scoped>\n",
       "    .dataframe tbody tr th:only-of-type {\n",
       "        vertical-align: middle;\n",
       "    }\n",
       "\n",
       "    .dataframe tbody tr th {\n",
       "        vertical-align: top;\n",
       "    }\n",
       "\n",
       "    .dataframe thead th {\n",
       "        text-align: right;\n",
       "    }\n",
       "</style>\n",
       "<table border=\"1\" class=\"dataframe\">\n",
       "  <thead>\n",
       "    <tr style=\"text-align: right;\">\n",
       "      <th></th>\n",
       "      <th>Epitope</th>\n",
       "      <th>Antigenicity</th>\n",
       "      <th>Is_Antigen</th>\n",
       "    </tr>\n",
       "  </thead>\n",
       "  <tbody>\n",
       "    <tr>\n",
       "      <th>0</th>\n",
       "      <td>ACFAVYTTK</td>\n",
       "      <td>1.2472</td>\n",
       "      <td>ANTIGEN</td>\n",
       "    </tr>\n",
       "    <tr>\n",
       "      <th>1</th>\n",
       "      <td>AVDTVLAKK</td>\n",
       "      <td>0.7139</td>\n",
       "      <td>ANTIGEN</td>\n",
       "    </tr>\n",
       "    <tr>\n",
       "      <th>2</th>\n",
       "      <td>AWLHCLLPK</td>\n",
       "      <td>-0.1332</td>\n",
       "      <td>NON-ANTIGEN</td>\n",
       "    </tr>\n",
       "    <tr>\n",
       "      <th>3</th>\n",
       "      <td>AYLRKCKEF</td>\n",
       "      <td>-0.0345</td>\n",
       "      <td>NON-ANTIGEN</td>\n",
       "    </tr>\n",
       "    <tr>\n",
       "      <th>4</th>\n",
       "      <td>FLICKGVNK</td>\n",
       "      <td>0.3501</td>\n",
       "      <td>NON-ANTIGEN</td>\n",
       "    </tr>\n",
       "    <tr>\n",
       "      <th>...</th>\n",
       "      <td>...</td>\n",
       "      <td>...</td>\n",
       "      <td>...</td>\n",
       "    </tr>\n",
       "    <tr>\n",
       "      <th>60</th>\n",
       "      <td>SQHSTPPKK</td>\n",
       "      <td>0.6622</td>\n",
       "      <td>ANTIGEN</td>\n",
       "    </tr>\n",
       "    <tr>\n",
       "      <th>61</th>\n",
       "      <td>TPHRHRVSA</td>\n",
       "      <td>0.1460</td>\n",
       "      <td>NON-ANTIGEN</td>\n",
       "    </tr>\n",
       "    <tr>\n",
       "      <th>62</th>\n",
       "      <td>VEESIQGGL</td>\n",
       "      <td>0.5589</td>\n",
       "      <td>ANTIGEN</td>\n",
       "    </tr>\n",
       "    <tr>\n",
       "      <th>63</th>\n",
       "      <td>YCFDCFRQW</td>\n",
       "      <td>0.1859</td>\n",
       "      <td>NON-ANTIGEN</td>\n",
       "    </tr>\n",
       "    <tr>\n",
       "      <th>64</th>\n",
       "      <td>YCIDCFTQW</td>\n",
       "      <td>-0.1950</td>\n",
       "      <td>NON-ANTIGEN</td>\n",
       "    </tr>\n",
       "  </tbody>\n",
       "</table>\n",
       "<p>65 rows × 3 columns</p>\n",
       "</div>"
      ],
      "text/plain": [
       "      Epitope  Antigenicity   Is_Antigen\n",
       "0   ACFAVYTTK        1.2472      ANTIGEN\n",
       "1   AVDTVLAKK        0.7139      ANTIGEN\n",
       "2   AWLHCLLPK       -0.1332  NON-ANTIGEN\n",
       "3   AYLRKCKEF       -0.0345  NON-ANTIGEN\n",
       "4   FLICKGVNK        0.3501  NON-ANTIGEN\n",
       "..        ...           ...          ...\n",
       "60  SQHSTPPKK        0.6622      ANTIGEN\n",
       "61  TPHRHRVSA        0.1460  NON-ANTIGEN\n",
       "62  VEESIQGGL        0.5589      ANTIGEN\n",
       "63  YCFDCFRQW        0.1859  NON-ANTIGEN\n",
       "64  YCIDCFTQW       -0.1950  NON-ANTIGEN\n",
       "\n",
       "[65 rows x 3 columns]"
      ]
     },
     "execution_count": 15,
     "metadata": {},
     "output_type": "execute_result"
    }
   ],
   "source": [
    "vA = Vaxijen_Antigenicity()\n",
    "data = vA.get_data(source_filepath)\n",
    "data"
   ]
  },
  {
   "cell_type": "code",
   "execution_count": 17,
   "id": "1b16c619",
   "metadata": {},
   "outputs": [],
   "source": [
    "vA.save_results(data, dest_filepath)"
   ]
  }
 ],
 "metadata": {
  "kernelspec": {
   "display_name": "Python 3 (ipykernel)",
   "language": "python",
   "name": "python3"
  },
  "language_info": {
   "codemirror_mode": {
    "name": "ipython",
    "version": 3
   },
   "file_extension": ".py",
   "mimetype": "text/x-python",
   "name": "python",
   "nbconvert_exporter": "python",
   "pygments_lexer": "ipython3",
   "version": "3.9.12"
  }
 },
 "nbformat": 4,
 "nbformat_minor": 5
}
