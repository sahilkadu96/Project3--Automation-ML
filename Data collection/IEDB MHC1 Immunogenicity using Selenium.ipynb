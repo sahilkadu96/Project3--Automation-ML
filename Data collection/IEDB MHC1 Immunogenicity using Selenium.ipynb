{
 "cells": [
  {
   "cell_type": "code",
   "execution_count": 1,
   "id": "671bdc9d",
   "metadata": {},
   "outputs": [
    {
     "data": {
      "text/plain": [
       "<selenium.webdriver.chrome.webdriver.WebDriver (session=\"ee8ba579cbcf8051cb78aa824d30fe1c\")>"
      ]
     },
     "execution_count": 1,
     "metadata": {},
     "output_type": "execute_result"
    }
   ],
   "source": [
    "from selenium import webdriver\n",
    "driver = webdriver.Chrome(executable_path = 'C:/Users/Sahil/.wdm/drivers/chromedriver/win32/110.0.5481/chromedriver.exe')\n",
    "driver"
   ]
  },
  {
   "cell_type": "code",
   "execution_count": 9,
   "id": "a0b9c545",
   "metadata": {},
   "outputs": [],
   "source": [
    "from selenium.webdriver.common.keys import Keys\n",
    "from selenium.common.exceptions import NoSuchElementException\n",
    "from time import sleep\n",
    "from selenium.webdriver.support.ui import WebDriverWait\n",
    "from selenium.webdriver.support import expected_conditions as EC\n",
    "from selenium.webdriver.common.by import By\n",
    "import pandas as pd"
   ]
  },
  {
   "cell_type": "code",
   "execution_count": 7,
   "id": "0bbd81b2",
   "metadata": {},
   "outputs": [],
   "source": [
    "class IEDB_MHC1_Immunogenicity:\n",
    "    def __init__(self):\n",
    "        self.base_url = 'http://tools.iedb.org/immunogenicity/'\n",
    "      \n",
    "    def get_data(self, source_filepath):\n",
    "        epit_list = []\n",
    "        length_list = []\n",
    "        immuno_score_list = []\n",
    "    \n",
    "    #home page\n",
    "        driver.get(self.base_url)\n",
    "        sleep(3)\n",
    "    \n",
    "    #choose file\n",
    "        choose_file = driver.find_element_by_xpath('//*[@id=\"id_sequence_file\"]')\n",
    "        choose_file.send_keys(source_filepath)\n",
    "    \n",
    "    #submit button\n",
    "        submit = driver.find_element_by_xpath('//*[@id=\"input-form\"]/table/tbody/tr[6]/th/div/input[1]')\n",
    "        submit.click()\n",
    "    \n",
    "    #wait until output table appears\n",
    "        WebDriverWait(driver, 5).until(EC.visibility_of_element_located((By.XPATH, '//*[@id=\"result_table\"]')))\n",
    "\n",
    "    #finding all elements from the table\n",
    "        epit = driver.find_elements_by_class_name('sequence')\n",
    "        length = driver.find_elements_by_xpath('//*[@id=\"result_table\"]/tbody/tr/td[2]')  \n",
    "        score = driver.find_elements_by_xpath('//*[@id=\"result_table\"]/tbody/tr/td[3]')\n",
    "    \n",
    "    #adding them into list\n",
    "        for ep, leng, sco in zip(epit, length, score):\n",
    "            epit_list.append(ep.text)\n",
    "            length_list.append(int(leng.text))\n",
    "            immuno_score_list.append(float(sco.text))\n",
    "        \n",
    "   #close the window     \n",
    "        driver.close()\n",
    "    \n",
    "    #return dataframe\n",
    "        df = pd.DataFrame({'Epitope':epit_list, 'Length':length_list, 'Immunogenicity':immuno_score_list})\n",
    "        return df\n",
    "    \n",
    "    def save_results(self, df, dest_filepath):\n",
    "        df.to_csv(dest_filepath, index = False)\n",
    "        "
   ]
  },
  {
   "cell_type": "code",
   "execution_count": 5,
   "id": "e19bbc4f",
   "metadata": {},
   "outputs": [],
   "source": [
    "source_filepath = r'C:\\Users\\Sahil\\Omdena\\Development of Vaccines for JC Virus\\9per_peptides.csv'\n",
    "dest_filepath = r'C:\\Users\\Sahil\\Omdena\\Development of Vaccines for JC Virus\\IEDB_MHC1_immunogenicity_results.csv'"
   ]
  },
  {
   "cell_type": "code",
   "execution_count": 10,
   "id": "34a849a8",
   "metadata": {},
   "outputs": [
    {
     "data": {
      "text/html": [
       "<div>\n",
       "<style scoped>\n",
       "    .dataframe tbody tr th:only-of-type {\n",
       "        vertical-align: middle;\n",
       "    }\n",
       "\n",
       "    .dataframe tbody tr th {\n",
       "        vertical-align: top;\n",
       "    }\n",
       "\n",
       "    .dataframe thead th {\n",
       "        text-align: right;\n",
       "    }\n",
       "</style>\n",
       "<table border=\"1\" class=\"dataframe\">\n",
       "  <thead>\n",
       "    <tr style=\"text-align: right;\">\n",
       "      <th></th>\n",
       "      <th>Epitope</th>\n",
       "      <th>Length</th>\n",
       "      <th>Immunogenicity</th>\n",
       "    </tr>\n",
       "  </thead>\n",
       "  <tbody>\n",
       "    <tr>\n",
       "      <th>0</th>\n",
       "      <td>LLLIWFRPV</td>\n",
       "      <td>9</td>\n",
       "      <td>0.49342</td>\n",
       "    </tr>\n",
       "    <tr>\n",
       "      <th>1</th>\n",
       "      <td>EPLVWIDCY</td>\n",
       "      <td>9</td>\n",
       "      <td>0.36614</td>\n",
       "    </tr>\n",
       "    <tr>\n",
       "      <th>2</th>\n",
       "      <td>SPLVWIDCY</td>\n",
       "      <td>9</td>\n",
       "      <td>0.36614</td>\n",
       "    </tr>\n",
       "    <tr>\n",
       "      <th>3</th>\n",
       "      <td>ILMWEAVTL</td>\n",
       "      <td>9</td>\n",
       "      <td>0.35774</td>\n",
       "    </tr>\n",
       "    <tr>\n",
       "      <th>4</th>\n",
       "      <td>LLMWEAVTV</td>\n",
       "      <td>9</td>\n",
       "      <td>0.35774</td>\n",
       "    </tr>\n",
       "    <tr>\n",
       "      <th>...</th>\n",
       "      <td>...</td>\n",
       "      <td>...</td>\n",
       "      <td>...</td>\n",
       "    </tr>\n",
       "    <tr>\n",
       "      <th>60</th>\n",
       "      <td>AYLRKCKEF</td>\n",
       "      <td>9</td>\n",
       "      <td>-0.33577</td>\n",
       "    </tr>\n",
       "    <tr>\n",
       "      <th>61</th>\n",
       "      <td>NLSLMRKAY</td>\n",
       "      <td>9</td>\n",
       "      <td>-0.34628</td>\n",
       "    </tr>\n",
       "    <tr>\n",
       "      <th>62</th>\n",
       "      <td>APKKPKEPV</td>\n",
       "      <td>9</td>\n",
       "      <td>-0.42278</td>\n",
       "    </tr>\n",
       "    <tr>\n",
       "      <th>63</th>\n",
       "      <td>CLLPKMDSV</td>\n",
       "      <td>9</td>\n",
       "      <td>-0.46800</td>\n",
       "    </tr>\n",
       "    <tr>\n",
       "      <th>64</th>\n",
       "      <td>ILYKKLMEK</td>\n",
       "      <td>9</td>\n",
       "      <td>-0.52834</td>\n",
       "    </tr>\n",
       "  </tbody>\n",
       "</table>\n",
       "<p>65 rows × 3 columns</p>\n",
       "</div>"
      ],
      "text/plain": [
       "      Epitope  Length  Immunogenicity\n",
       "0   LLLIWFRPV       9         0.49342\n",
       "1   EPLVWIDCY       9         0.36614\n",
       "2   SPLVWIDCY       9         0.36614\n",
       "3   ILMWEAVTL       9         0.35774\n",
       "4   LLMWEAVTV       9         0.35774\n",
       "..        ...     ...             ...\n",
       "60  AYLRKCKEF       9        -0.33577\n",
       "61  NLSLMRKAY       9        -0.34628\n",
       "62  APKKPKEPV       9        -0.42278\n",
       "63  CLLPKMDSV       9        -0.46800\n",
       "64  ILYKKLMEK       9        -0.52834\n",
       "\n",
       "[65 rows x 3 columns]"
      ]
     },
     "execution_count": 10,
     "metadata": {},
     "output_type": "execute_result"
    }
   ],
   "source": [
    "im = IEDB_MHC1_Immunogenicity()\n",
    "data = im.get_data(source_filepath)\n",
    "data"
   ]
  },
  {
   "cell_type": "code",
   "execution_count": 11,
   "id": "e88964bc",
   "metadata": {},
   "outputs": [],
   "source": [
    "im.save_results(data, dest_filepath)"
   ]
  }
 ],
 "metadata": {
  "kernelspec": {
   "display_name": "Python 3 (ipykernel)",
   "language": "python",
   "name": "python3"
  },
  "language_info": {
   "codemirror_mode": {
    "name": "ipython",
    "version": 3
   },
   "file_extension": ".py",
   "mimetype": "text/x-python",
   "name": "python",
   "nbconvert_exporter": "python",
   "pygments_lexer": "ipython3",
   "version": "3.9.12"
  }
 },
 "nbformat": 4,
 "nbformat_minor": 5
}
