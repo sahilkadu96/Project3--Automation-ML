{
 "cells": [
  {
   "cell_type": "code",
   "execution_count": 1,
   "id": "666450d7",
   "metadata": {},
   "outputs": [
    {
     "data": {
      "text/plain": [
       "<selenium.webdriver.chrome.webdriver.WebDriver (session=\"ec32e65bf1487ca2bd73b2a020cc44ab\")>"
      ]
     },
     "execution_count": 1,
     "metadata": {},
     "output_type": "execute_result"
    }
   ],
   "source": [
    "from selenium import webdriver\n",
    "driver = webdriver.Chrome(executable_path = 'C:/Users/Sahil/.wdm/drivers/chromedriver/win32/110.0.5481/chromedriver.exe')\n",
    "driver"
   ]
  },
  {
   "cell_type": "code",
   "execution_count": 2,
   "id": "2b39f0c9",
   "metadata": {},
   "outputs": [],
   "source": [
    "from selenium.webdriver.common.keys import Keys\n",
    "from selenium.common.exceptions import NoSuchElementException\n",
    "from time import sleep\n",
    "from selenium.webdriver.support.ui import WebDriverWait\n",
    "from selenium.webdriver.support import expected_conditions as EC\n",
    "from selenium.webdriver.common.by import By\n",
    "import pandas as pd"
   ]
  },
  {
   "cell_type": "code",
   "execution_count": 3,
   "id": "3426c308",
   "metadata": {},
   "outputs": [],
   "source": [
    "driver.get('https://www.bv-brc.org/view/Taxonomy/151341#view_tab=epitope')"
   ]
  },
  {
   "cell_type": "code",
   "execution_count": 5,
   "id": "e05e2282",
   "metadata": {},
   "outputs": [
    {
     "data": {
      "text/plain": [
       "<selenium.webdriver.remote.webelement.WebElement (session=\"d01defc47d1850b7f5bcf2689ee73778\", element=\"a31767bc-d909-4375-ba2e-36226070d1b5\")>"
      ]
     },
     "execution_count": 5,
     "metadata": {},
     "output_type": "execute_result"
    }
   ],
   "source": [
    "WebDriverWait(driver, 60).until(EC.visibility_of_element_located((By.XPATH, '//*[@id=\"dgrid_0\"]')))"
   ]
  },
  {
   "cell_type": "code",
   "execution_count": 4,
   "id": "e49f58bd",
   "metadata": {
    "scrolled": true
   },
   "outputs": [
    {
     "data": {
      "text/html": [
       "<div>\n",
       "<style scoped>\n",
       "    .dataframe tbody tr th:only-of-type {\n",
       "        vertical-align: middle;\n",
       "    }\n",
       "\n",
       "    .dataframe tbody tr th {\n",
       "        vertical-align: top;\n",
       "    }\n",
       "\n",
       "    .dataframe thead th {\n",
       "        text-align: right;\n",
       "    }\n",
       "</style>\n",
       "<table border=\"1\" class=\"dataframe\">\n",
       "  <thead>\n",
       "    <tr style=\"text-align: right;\">\n",
       "      <th></th>\n",
       "      <th>Index</th>\n",
       "      <th>Epitope_type</th>\n",
       "      <th>Epitope_sequence</th>\n",
       "      <th>Organism</th>\n",
       "      <th>Protein_name</th>\n",
       "      <th>Total_assays</th>\n",
       "      <th>Bcell_assays</th>\n",
       "      <th>Tcell_assays</th>\n",
       "      <th>MCH_assays</th>\n",
       "    </tr>\n",
       "  </thead>\n",
       "  <tbody>\n",
       "    <tr>\n",
       "      <th>0</th>\n",
       "      <td>16637</td>\n",
       "      <td>Linear peptide</td>\n",
       "      <td>FLHCIVFNV</td>\n",
       "      <td>Human polyomavirus 1</td>\n",
       "      <td>Large T antigen</td>\n",
       "      <td>7</td>\n",
       "      <td></td>\n",
       "      <td>4/6</td>\n",
       "      <td>1/1</td>\n",
       "    </tr>\n",
       "    <tr>\n",
       "      <th>1</th>\n",
       "      <td>167489</td>\n",
       "      <td>Linear peptide</td>\n",
       "      <td>DLFCDESLSSPEPPSSSEEP</td>\n",
       "      <td>Human polyomavirus 5</td>\n",
       "      <td>Large T antigen</td>\n",
       "      <td>2</td>\n",
       "      <td></td>\n",
       "      <td>0/2</td>\n",
       "      <td></td>\n",
       "    </tr>\n",
       "    <tr>\n",
       "      <th>2</th>\n",
       "      <td>167491</td>\n",
       "      <td>Linear peptide</td>\n",
       "      <td>EALCKLLEIAPNCYGNIPLM</td>\n",
       "      <td>Human polyomavirus 5</td>\n",
       "      <td>Small T antigen sT</td>\n",
       "      <td>2</td>\n",
       "      <td></td>\n",
       "      <td>0/2</td>\n",
       "      <td></td>\n",
       "    </tr>\n",
       "    <tr>\n",
       "      <th>3</th>\n",
       "      <td>167492</td>\n",
       "      <td>Linear peptide</td>\n",
       "      <td>EAPIYGTTKFKEWWRSGGFS</td>\n",
       "      <td>Human polyomavirus 5</td>\n",
       "      <td>Large T antigen</td>\n",
       "      <td>11</td>\n",
       "      <td></td>\n",
       "      <td>0/11</td>\n",
       "      <td></td>\n",
       "    </tr>\n",
       "    <tr>\n",
       "      <th>4</th>\n",
       "      <td>167496</td>\n",
       "      <td>Linear peptide</td>\n",
       "      <td>EEPPSSRSSPRQPPCSSAEE</td>\n",
       "      <td>Human polyomavirus 5</td>\n",
       "      <td>Large T antigen</td>\n",
       "      <td>2</td>\n",
       "      <td></td>\n",
       "      <td>0/2</td>\n",
       "      <td></td>\n",
       "    </tr>\n",
       "    <tr>\n",
       "      <th>...</th>\n",
       "      <td>...</td>\n",
       "      <td>...</td>\n",
       "      <td>...</td>\n",
       "      <td>...</td>\n",
       "      <td>...</td>\n",
       "      <td>...</td>\n",
       "      <td>...</td>\n",
       "      <td>...</td>\n",
       "      <td>...</td>\n",
       "    </tr>\n",
       "    <tr>\n",
       "      <th>195</th>\n",
       "      <td>244024</td>\n",
       "      <td>Linear peptide</td>\n",
       "      <td>MDKVLNREESMELM</td>\n",
       "      <td>Human polyomavirus 2</td>\n",
       "      <td>Large T antigen</td>\n",
       "      <td>1</td>\n",
       "      <td></td>\n",
       "      <td>0/1</td>\n",
       "      <td></td>\n",
       "    </tr>\n",
       "    <tr>\n",
       "      <th>196</th>\n",
       "      <td>244025</td>\n",
       "      <td>Linear peptide</td>\n",
       "      <td>MNTEHKAYLDKNKAY</td>\n",
       "      <td>Human polyomavirus 2</td>\n",
       "      <td>Capsid protein VP1</td>\n",
       "      <td>1</td>\n",
       "      <td></td>\n",
       "      <td>0/1</td>\n",
       "      <td></td>\n",
       "    </tr>\n",
       "    <tr>\n",
       "      <th>197</th>\n",
       "      <td>244027</td>\n",
       "      <td>Linear peptide</td>\n",
       "      <td>MVLRQLSRKASVKV</td>\n",
       "      <td>Human polyomavirus 2</td>\n",
       "      <td>Agnoprotein</td>\n",
       "      <td>1</td>\n",
       "      <td></td>\n",
       "      <td>0/1</td>\n",
       "      <td></td>\n",
       "    </tr>\n",
       "    <tr>\n",
       "      <th>198</th>\n",
       "      <td>244028</td>\n",
       "      <td>Linear peptide</td>\n",
       "      <td>NFLYKKMEQGVKVAH</td>\n",
       "      <td>Human polyomavirus 2</td>\n",
       "      <td>Large T antigen</td>\n",
       "      <td>1</td>\n",
       "      <td></td>\n",
       "      <td>0/1</td>\n",
       "      <td></td>\n",
       "    </tr>\n",
       "    <tr>\n",
       "      <th>199</th>\n",
       "      <td>244030</td>\n",
       "      <td>Linear peptide</td>\n",
       "      <td>NPYPISFLLTDLINR</td>\n",
       "      <td>Human polyomavirus 2</td>\n",
       "      <td>Capsid protein VP1</td>\n",
       "      <td>1</td>\n",
       "      <td></td>\n",
       "      <td>0/1</td>\n",
       "      <td></td>\n",
       "    </tr>\n",
       "  </tbody>\n",
       "</table>\n",
       "<p>200 rows × 9 columns</p>\n",
       "</div>"
      ],
      "text/plain": [
       "      Index    Epitope_type      Epitope_sequence              Organism  \\\n",
       "0     16637  Linear peptide             FLHCIVFNV  Human polyomavirus 1   \n",
       "1    167489  Linear peptide  DLFCDESLSSPEPPSSSEEP  Human polyomavirus 5   \n",
       "2    167491  Linear peptide  EALCKLLEIAPNCYGNIPLM  Human polyomavirus 5   \n",
       "3    167492  Linear peptide  EAPIYGTTKFKEWWRSGGFS  Human polyomavirus 5   \n",
       "4    167496  Linear peptide  EEPPSSRSSPRQPPCSSAEE  Human polyomavirus 5   \n",
       "..      ...             ...                   ...                   ...   \n",
       "195  244024  Linear peptide        MDKVLNREESMELM  Human polyomavirus 2   \n",
       "196  244025  Linear peptide       MNTEHKAYLDKNKAY  Human polyomavirus 2   \n",
       "197  244027  Linear peptide        MVLRQLSRKASVKV  Human polyomavirus 2   \n",
       "198  244028  Linear peptide       NFLYKKMEQGVKVAH  Human polyomavirus 2   \n",
       "199  244030  Linear peptide       NPYPISFLLTDLINR  Human polyomavirus 2   \n",
       "\n",
       "           Protein_name Total_assays Bcell_assays Tcell_assays MCH_assays  \n",
       "0       Large T antigen            7                       4/6        1/1  \n",
       "1       Large T antigen            2                       0/2             \n",
       "2    Small T antigen sT            2                       0/2             \n",
       "3       Large T antigen           11                      0/11             \n",
       "4       Large T antigen            2                       0/2             \n",
       "..                  ...          ...          ...          ...        ...  \n",
       "195     Large T antigen            1                       0/1             \n",
       "196  Capsid protein VP1            1                       0/1             \n",
       "197         Agnoprotein            1                       0/1             \n",
       "198     Large T antigen            1                       0/1             \n",
       "199  Capsid protein VP1            1                       0/1             \n",
       "\n",
       "[200 rows x 9 columns]"
      ]
     },
     "execution_count": 4,
     "metadata": {},
     "output_type": "execute_result"
    }
   ],
   "source": [
    "idx = driver.find_elements_by_xpath('//td[@class=\"dgrid-cell dgrid-cell-padding dgrid-column-epitope_id field-epitope_id\"]')\n",
    "ty = driver.find_elements_by_xpath('//td[@class=\"dgrid-cell dgrid-cell-padding dgrid-column-epitope_type field-epitope_type\"]')\n",
    "s = driver.find_elements_by_xpath('//td[@class=\"dgrid-cell dgrid-cell-padding dgrid-column-epitope_sequence field-epitope_sequence\"]')\n",
    "o = driver.find_elements_by_xpath('//td[@class=\"dgrid-cell dgrid-cell-padding dgrid-column-organism field-organism\"]')\n",
    "p = driver.find_elements_by_xpath('//td[@class=\"dgrid-cell dgrid-cell-padding dgrid-column-protein_name field-protein_name\"]')\n",
    "ta = driver.find_elements_by_xpath('//td[@class=\"dgrid-cell dgrid-cell-padding dgrid-column-total_assays field-total_assays\"]')\n",
    "ba = driver.find_elements_by_xpath('//td[@class=\"dgrid-cell dgrid-cell-padding dgrid-column-bcell_assays field-bcell_assays\"]')\n",
    "tc = driver.find_elements_by_xpath('//td[@class=\"dgrid-cell dgrid-cell-padding dgrid-column-tcell_assays field-tcell_assays\"]')\n",
    "mch = driver.find_elements_by_xpath('//td[@class=\"dgrid-cell dgrid-cell-padding dgrid-column-mhc_assays field-mhc_assays\"]')\n",
    "\n",
    "index = []\n",
    "epitope_type = []\n",
    "epitope_sequence = []\n",
    "organism = []\n",
    "protein_name = []\n",
    "total_assays = []\n",
    "bcell_assays = []\n",
    "tcell_assays = []\n",
    "mch_assays = []\n",
    "\n",
    "for i, j, k, l, m, n, a, b, c in zip(idx, ty, s, o, p, ta, ba, tc, mch):\n",
    "    index.append(int(i.text))\n",
    "    epitope_type.append(j.text)\n",
    "    epitope_sequence.append(k.text)\n",
    "    organism.append(l.text)\n",
    "    protein_name.append(m.text)\n",
    "    total_assays.append(n.text)\n",
    "    bcell_assays.append(a.text)\n",
    "    tcell_assays.append(b.text)\n",
    "    mch_assays.append(c.text)\n",
    "    \n",
    "    \n",
    "df = pd.DataFrame({'Index':index, 'Epitope_type':epitope_type, 'Epitope_sequence':epitope_sequence, 'Organism':organism,\n",
    "                  'Protein_name':protein_name, 'Total_assays':total_assays, 'Bcell_assays':bcell_assays, \n",
    "                   'Tcell_assays':tcell_assays, 'MCH_assays':mch_assays\n",
    "                  })\n",
    "df"
   ]
  },
  {
   "cell_type": "code",
   "execution_count": 9,
   "id": "351d6986",
   "metadata": {},
   "outputs": [],
   "source": [
    "nextp = driver.find_element_by_xpath('//*[@id=\"dgrid_0\"]/div[4]/div/div[2]/span[3]')\n",
    "nextp.click()"
   ]
  },
  {
   "cell_type": "code",
   "execution_count": 11,
   "id": "6d5d9649",
   "metadata": {},
   "outputs": [
    {
     "data": {
      "text/plain": [
       "['<span',\n",
       " 'class=\"dgrid-next',\n",
       " 'dgrid-page-link',\n",
       " 'dgrid-page-disabled\"',\n",
       " 'aria-label=\"Go',\n",
       " 'to',\n",
       " 'next',\n",
       " 'page\"',\n",
       " 'tabindex=\"-1\">›</span>']"
      ]
     },
     "execution_count": 11,
     "metadata": {},
     "output_type": "execute_result"
    }
   ],
   "source": [
    "asd = driver.find_element_by_xpath('//*[@id=\"dgrid_0\"]/div[4]/div/div[2]/span[3]')\n",
    "asd.get_attribute('outerHTML').split(' ')"
   ]
  },
  {
   "cell_type": "code",
   "execution_count": 13,
   "id": "41921ed0",
   "metadata": {},
   "outputs": [
    {
     "name": "stdout",
     "output_type": "stream",
     "text": [
      "All pages scrapped\n"
     ]
    }
   ],
   "source": [
    "nextp = driver.find_element_by_xpath('//*[@id=\"dgrid_0\"]/div[4]/div/div[2]/span[3]')\n",
    "while True:\n",
    "    if nextp.get_attribute('outerHTML').split(' ')[3] == 'dgrid-page-disabled\"':\n",
    "        print('All pages scrapped')\n",
    "        break\n",
    "    else:\n",
    "        nextp.click()"
   ]
  },
  {
   "cell_type": "code",
   "execution_count": 8,
   "id": "5785bfb0",
   "metadata": {},
   "outputs": [
    {
     "name": "stdout",
     "output_type": "stream",
     "text": [
      "All pages scrapped\n"
     ]
    },
    {
     "data": {
      "text/html": [
       "<div>\n",
       "<style scoped>\n",
       "    .dataframe tbody tr th:only-of-type {\n",
       "        vertical-align: middle;\n",
       "    }\n",
       "\n",
       "    .dataframe tbody tr th {\n",
       "        vertical-align: top;\n",
       "    }\n",
       "\n",
       "    .dataframe thead th {\n",
       "        text-align: right;\n",
       "    }\n",
       "</style>\n",
       "<table border=\"1\" class=\"dataframe\">\n",
       "  <thead>\n",
       "    <tr style=\"text-align: right;\">\n",
       "      <th></th>\n",
       "      <th>Index</th>\n",
       "      <th>Epitope_type</th>\n",
       "      <th>Epitope_sequence</th>\n",
       "      <th>Organism</th>\n",
       "      <th>Protein_name</th>\n",
       "      <th>Total_assays</th>\n",
       "      <th>Bcell_assays</th>\n",
       "      <th>Tcell_assays</th>\n",
       "      <th>MCH_assays</th>\n",
       "    </tr>\n",
       "  </thead>\n",
       "  <tbody>\n",
       "  </tbody>\n",
       "</table>\n",
       "</div>"
      ],
      "text/plain": [
       "Empty DataFrame\n",
       "Columns: [Index, Epitope_type, Epitope_sequence, Organism, Protein_name, Total_assays, Bcell_assays, Tcell_assays, MCH_assays]\n",
       "Index: []"
      ]
     },
     "execution_count": 8,
     "metadata": {},
     "output_type": "execute_result"
    }
   ],
   "source": [
    "\n",
    "while True:\n",
    "    idx = driver.find_elements_by_xpath('//td[@class=\"dgrid-cell dgrid-cell-padding dgrid-column-epitope_id field-epitope_id\"]')\n",
    "    ty = driver.find_elements_by_xpath('//td[@class=\"dgrid-cell dgrid-cell-padding dgrid-column-epitope_type field-epitope_type\"]')\n",
    "    s = driver.find_elements_by_xpath('//td[@class=\"dgrid-cell dgrid-cell-padding dgrid-column-epitope_sequence field-epitope_sequence\"]')\n",
    "    o = driver.find_elements_by_xpath('//td[@class=\"dgrid-cell dgrid-cell-padding dgrid-column-organism field-organism\"]')\n",
    "    p = driver.find_elements_by_xpath('//td[@class=\"dgrid-cell dgrid-cell-padding dgrid-column-protein_name field-protein_name\"]')\n",
    "    ta = driver.find_elements_by_xpath('//td[@class=\"dgrid-cell dgrid-cell-padding dgrid-column-total_assays field-total_assays\"]')\n",
    "    ba = driver.find_elements_by_xpath('//td[@class=\"dgrid-cell dgrid-cell-padding dgrid-column-bcell_assays field-bcell_assays\"]')\n",
    "    tc = driver.find_elements_by_xpath('//td[@class=\"dgrid-cell dgrid-cell-padding dgrid-column-tcell_assays field-tcell_assays\"]')\n",
    "    mch = driver.find_elements_by_xpath('//td[@class=\"dgrid-cell dgrid-cell-padding dgrid-column-mhc_assays field-mhc_assays\"]')\n",
    "\n",
    "    index = []\n",
    "    epitope_type = []\n",
    "    epitope_sequence = []\n",
    "    organism = []\n",
    "    protein_name = []\n",
    "    total_assays = []\n",
    "    bcell_assays = []\n",
    "    tcell_assays = []\n",
    "    mch_assays = []\n",
    "\n",
    "    for i, j, k, l, m, n, a, b, c in zip(idx, ty, s, o, p, ta, ba, tc, mch):\n",
    "        index.append(int(i.text))\n",
    "        epitope_type.append(j.text)\n",
    "        epitope_sequence.append(k.text)\n",
    "        organism.append(l.text)\n",
    "        protein_name.append(m.text)\n",
    "        total_assays.append(n.text)\n",
    "        bcell_assays.append(a.text)\n",
    "        tcell_assays.append(b.text)\n",
    "        mch_assays.append(c.text)\n",
    "        \n",
    "    nextp = driver.find_element_by_xpath('//*[@id=\"dgrid_0\"]/div[4]/div/div[2]/span[3]')\n",
    "    if nextp.get_attribute('outerHTML').split(' ')[3] == 'dgrid-page-disabled\"':\n",
    "        print('All pages scrapped')\n",
    "        break\n",
    "    else:\n",
    "        nextp.click()\n",
    "        WebDriverWait(driver, 60).until(EC.visibility_of_element_located((By.XPATH, '//*[@id=\"dgrid_0\"]')))\n",
    "\n",
    "            \n",
    "df = pd.DataFrame({'Index':index, 'Epitope_type':epitope_type, 'Epitope_sequence':epitope_sequence, 'Organism':organism,\n",
    "                  'Protein_name':protein_name, 'Total_assays':total_assays, 'Bcell_assays':bcell_assays, \n",
    "                   'Tcell_assays':tcell_assays, 'MCH_assays':mch_assays\n",
    "                  })\n",
    "df\n",
    "        \n",
    "    "
   ]
  }
 ],
 "metadata": {
  "kernelspec": {
   "display_name": "Python 3 (ipykernel)",
   "language": "python",
   "name": "python3"
  },
  "language_info": {
   "codemirror_mode": {
    "name": "ipython",
    "version": 3
   },
   "file_extension": ".py",
   "mimetype": "text/x-python",
   "name": "python",
   "nbconvert_exporter": "python",
   "pygments_lexer": "ipython3",
   "version": "3.9.12"
  }
 },
 "nbformat": 4,
 "nbformat_minor": 5
}
